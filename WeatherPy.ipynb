{
 "cells": [
  {
   "cell_type": "markdown",
   "metadata": {},
   "source": [
    "# WeatherPy\n",
    "----\n",
    "\n",
    "#### Note\n",
    "* Instructions have been included for each segment. You do not have to follow them exactly, but they are included to help you think through the steps."
   ]
  },
  {
   "cell_type": "code",
   "execution_count": 10,
   "metadata": {
    "scrolled": true
   },
   "outputs": [],
   "source": [
    "# Dependencies and Setup\n",
    "import matplotlib.pyplot as plt\n",
    "import pandas as pd\n",
    "import numpy as np\n",
    "import requests\n",
    "import time\n",
    "from scipy.stats import linregress\n",
    "\n",
    "# Import API key\n",
    "from api_keys import weather_api_key\n",
    "\n",
    "# Incorporated citipy to determine city based on latitude and longitude\n",
    "from citipy import citipy\n",
    "\n",
    "# Output File (CSV)\n",
    "#output_data_file = \"output_data/cities.csv\"\n",
    "output_data_file = \"cities.csv\"\n",
    "\n",
    "# Range of latitudes and longitudes\n",
    "lat_range = (-90, 90)\n",
    "lng_range = (-180, 180)"
   ]
  },
  {
   "cell_type": "markdown",
   "metadata": {},
   "source": [
    "## Generate Cities List"
   ]
  },
  {
   "cell_type": "code",
   "execution_count": 11,
   "metadata": {},
   "outputs": [
    {
     "data": {
      "text/plain": [
       "632"
      ]
     },
     "execution_count": 11,
     "metadata": {},
     "output_type": "execute_result"
    }
   ],
   "source": [
    "# List for holding lat_lngs and cities\n",
    "lat_lngs = []\n",
    "cities = []\n",
    "\n",
    "# Create a set of random lat and lng combinations\n",
    "lats = np.random.uniform(lat_range[0], lat_range[1], size=1500)\n",
    "lngs = np.random.uniform(lng_range[0], lng_range[1], size=1500)\n",
    "lat_lngs = zip(lats, lngs)\n",
    "\n",
    "# Identify nearest city for each lat, lng combination\n",
    "for lat_lng in lat_lngs:\n",
    "    city = citipy.nearest_city(lat_lng[0], lat_lng[1]).city_name\n",
    "    \n",
    "# If the city is unique, then add it to a our cities list\n",
    "    if city not in cities: \n",
    "        cities.append(city)\n",
    "\n",
    "# Print the city count to confirm sufficient count\n",
    "len(cities)\n"
   ]
  },
  {
   "cell_type": "markdown",
   "metadata": {},
   "source": [
    "### Perform API Calls\n",
    "* Perform a weather check on each city using a series of successive API calls.\n",
    "* Include a print log of each city as it'sbeing processed (with the city number and city name).\n"
   ]
  },
  {
   "cell_type": "code",
   "execution_count": 19,
   "metadata": {},
   "outputs": [
    {
     "name": "stdout",
     "output_type": "stream",
     "text": [
      "The temp in 0:yar-sale is 5.25. Lat: 66.83. Long: 70.83\n",
      "1:samusu not found.\n",
      "The temp in 2:honningsvag is 37.4. Lat: 70.98. Long: 25.97\n",
      "The temp in 3:pilar is 75.2. Lat: -9.6. Long: -35.96\n",
      "4:barentsburg not found.\n",
      "The temp in 5:agirish is 24.53. Lat: 61.92. Long: 63.02\n",
      "The temp in 6:kishni is 66.25. Lat: 27.02. Long: 79.26\n",
      "The temp in 7:boende is 68.5. Lat: -0.22. Long: 20.87\n",
      "The temp in 8:alihe is 23.13. Lat: 50.57. Long: 123.72\n",
      "The temp in 9:mataura is 57. Lat: -46.19. Long: 168.86\n",
      "The temp in 10:antofagasta is 64.4. Lat: -23.65. Long: -70.4\n",
      "The temp in 11:vaini is 78.8. Lat: -21.2. Long: -175.2\n",
      "The temp in 12:muroto is 46.4. Lat: 33.28. Long: 134.15\n",
      "The temp in 13:comodoro rivadavia is 69.8. Lat: -45.87. Long: -67.5\n",
      "The temp in 14:cap malheureux is 73.99. Lat: -19.98. Long: 57.61\n",
      "The temp in 15:narbonne is 58.46. Lat: 43.08. Long: 2.83\n",
      "The temp in 16:khatanga is -7.11. Lat: 71.97. Long: 102.5\n",
      "The temp in 17:macau is 69.06. Lat: 22.2. Long: 113.55\n",
      "18:sentyabrskiy not found.\n",
      "The temp in 19:samana is 75.2. Lat: 19.21. Long: -69.34\n",
      "The temp in 20:rikitea is 72.39. Lat: -23.12. Long: -134.97\n",
      "The temp in 21:zhigansk is 1.63. Lat: 66.77. Long: 123.37\n",
      "The temp in 22:sovetskaya gavan is 29.1. Lat: 48.97. Long: 140.29\n",
      "The temp in 23:bluff is 57. Lat: -46.6. Long: 168.33\n",
      "The temp in 24:kruisfontein is 61. Lat: -34. Long: 24.73\n",
      "The temp in 25:ushuaia is 60.8. Lat: -54.8. Long: -68.3\n",
      "The temp in 26:port alfred is 62.64. Lat: -33.59. Long: 26.89\n",
      "The temp in 27:paita is 65.91. Lat: -5.09. Long: -81.11\n",
      "The temp in 28:dunedin is 59. Lat: -45.87. Long: 170.5\n",
      "The temp in 29:cabra is 54. Lat: 37.47. Long: -4.44\n",
      "The temp in 30:barstow is 61.29. Lat: 34.9. Long: -117.02\n",
      "The temp in 31:meulaboh is 76.73. Lat: 4.14. Long: 96.13\n",
      "The temp in 32:bandarbeyla is 75.18. Lat: 9.49. Long: 50.81\n",
      "The temp in 33:kavieng is 84.18. Lat: -2.57. Long: 150.8\n",
      "The temp in 34:cape town is 63.82. Lat: -33.93. Long: 18.42\n",
      "The temp in 35:new norfolk is 65.41. Lat: -42.78. Long: 147.06\n",
      "36:yirol not found.\n",
      "The temp in 37:east london is 62.55. Lat: -33.02. Long: 27.91\n",
      "The temp in 38:hambantota is 75.2. Lat: 6.12. Long: 81.12\n",
      "The temp in 39:port lincoln is 59.27. Lat: -34.73. Long: 135.87\n",
      "The temp in 40:parana is 79.02. Lat: -31.73. Long: -60.52\n",
      "The temp in 41:arraial do cabo is 77. Lat: -22.97. Long: -42.03\n",
      "The temp in 42:ancud is 55.36. Lat: -41.87. Long: -73.82\n",
      "The temp in 43:punta arenas is 59. Lat: -53.15. Long: -70.92\n",
      "The temp in 44:mount gambier is 55.4. Lat: -37.83. Long: 140.77\n",
      "The temp in 45:sorland is 48.2. Lat: 67.67. Long: 12.69\n",
      "The temp in 46:hobart is 66.7. Lat: -42.88. Long: 147.33\n",
      "47:taolanaro not found.\n",
      "The temp in 48:anadyr is 12.2. Lat: 64.75. Long: 177.48\n",
      "The temp in 49:thompson is 6.8. Lat: 55.74. Long: -97.86\n",
      "The temp in 50:mgandu is 62.29. Lat: -5.95. Long: 34.13\n",
      "The temp in 51:ilulissat is 9. Lat: 69.22. Long: -51.1\n",
      "The temp in 52:zyryanka is -14.15. Lat: 65.75. Long: 150.85\n",
      "The temp in 53:kudahuvadhoo is 82.56. Lat: 2.67. Long: 72.89\n",
      "The temp in 54:butaritari is 82.11. Lat: 3.07. Long: 172.79\n",
      "55:phan rang not found.\n",
      "The temp in 56:tateyama is 48.51. Lat: 34.98. Long: 139.87\n",
      "The temp in 57:siguiri is 74.97. Lat: 11.67. Long: -9.5\n",
      "The temp in 58:porto torres is 53.6. Lat: 40.84. Long: 8.4\n",
      "The temp in 59:nhulunbuy is 82.4. Lat: -12.23. Long: 136.77\n",
      "The temp in 60:meadow lake is 51.6. Lat: 34.8. Long: -106.54\n",
      "The temp in 61:lebu is 54.91. Lat: -37.62. Long: -73.65\n",
      "62:illoqqortoormiut not found.\n",
      "The temp in 63:salalah is 78.8. Lat: 17.02. Long: 54.09\n",
      "The temp in 64:mahebourg is 75.2. Lat: -20.41. Long: 57.7\n",
      "The temp in 65:petropavlovsk-kamchatskiy is 24.8. Lat: 53.05. Long: 158.65\n",
      "The temp in 66:lompoc is 61.77. Lat: 34.64. Long: -120.46\n",
      "The temp in 67:avarua is 80.6. Lat: -21.21. Long: -159.78\n",
      "The temp in 68:baft is 48.92. Lat: 29.23. Long: 56.61\n",
      "The temp in 69:grafton is 68.38. Lat: 42.21. Long: -71.69\n",
      "The temp in 70:hilo is 76.21. Lat: 19.73. Long: -155.09\n",
      "The temp in 71:puerto madryn is 68.4. Lat: -42.77. Long: -65.04\n",
      "The temp in 72:guaruja is 77. Lat: -23.99. Long: -46.26\n",
      "The temp in 73:bobo dioulasso is 80.6. Lat: 11.18. Long: -4.3\n",
      "The temp in 74:coahuayana is 82.4. Lat: 18.73. Long: -103.68\n",
      "The temp in 75:puerto ayora is 73.81. Lat: -0.74. Long: -90.35\n",
      "The temp in 76:klaksvik is 41. Lat: 62.23. Long: -6.59\n",
      "The temp in 77:tual is 83.62. Lat: -5.67. Long: 132.75\n",
      "The temp in 78:vanimo is 76.71. Lat: -2.67. Long: 141.3\n",
      "The temp in 79:darovskoy is 26.76. Lat: 58.77. Long: 47.96\n",
      "The temp in 80:knysna is 59. Lat: -34.04. Long: 23.05\n",
      "The temp in 81:shikarpur is 66.2. Lat: 27.96. Long: 68.64\n",
      "The temp in 82:ayan is 26.51. Lat: 56.45. Long: 138.17\n",
      "The temp in 83:talnakh is 6.8. Lat: 69.49. Long: 88.4\n",
      "The temp in 84:pemba is 78.42. Lat: -12.97. Long: 40.52\n",
      "The temp in 85:port elizabeth is 62.6. Lat: -33.92. Long: 25.57\n",
      "The temp in 86:obala is 71.8. Lat: 4.17. Long: 11.53\n",
      "The temp in 87:tuktoyaktuk is 5. Lat: 69.45. Long: -133.04\n",
      "The temp in 88:haines junction is 33.8. Lat: 60.75. Long: -137.51\n",
      "The temp in 89:busselton is 47.97. Lat: -33.65. Long: 115.33\n",
      "The temp in 90:golden is 45.73. Lat: 39.76. Long: -105.22\n",
      "The temp in 91:pervomayskiy is 33.01. Lat: 53.25. Long: 40.29\n",
      "The temp in 92:katsuura is 49.28. Lat: 35.13. Long: 140.3\n",
      "The temp in 93:chuy is 62.69. Lat: -33.7. Long: -53.46\n",
      "The temp in 94:felanitx is 56.55. Lat: 39.47. Long: 3.15\n",
      "The temp in 95:dikson is 0.52. Lat: 73.51. Long: 80.55\n",
      "96:amderma not found.\n",
      "The temp in 97:talaya is -24.02. Lat: 61.38. Long: 152.75\n",
      "The temp in 98:marawi is 75. Lat: 8. Long: 124.29\n",
      "The temp in 99:kodiak is 41. Lat: 57.79. Long: -152.41\n",
      "The temp in 100:sulzbach-rosenberg is 41.94. Lat: 49.5. Long: 11.75\n",
      "The temp in 101:namibe is 71.94. Lat: -15.2. Long: 12.15\n",
      "The temp in 102:kiruna is 19.4. Lat: 67.86. Long: 20.23\n",
      "The temp in 103:te anau is 64.94. Lat: -45.42. Long: 167.72\n",
      "The temp in 104:nyuksenitsa is 29.34. Lat: 60.41. Long: 44.24\n",
      "The temp in 105:victoria point is 73.65. Lat: -27.58. Long: 153.3\n",
      "The temp in 106:alofi is 80.6. Lat: -19.06. Long: -169.92\n",
      "The temp in 107:luau is 66.27. Lat: -10.71. Long: 22.22\n",
      "The temp in 108:cidreira is 70.9. Lat: -30.18. Long: -50.21\n",
      "The temp in 109:cayenne is 82.4. Lat: 4.93. Long: -52.33\n",
      "The temp in 110:juneau is 29.14. Lat: 58.3. Long: -134.42\n",
      "The temp in 111:hermanus is 63. Lat: -34.42. Long: 19.23\n",
      "The temp in 112:sulphur springs is 73.18. Lat: 33.14. Long: -95.6\n",
      "The temp in 113:esperance is 51.8. Lat: -33.87. Long: 121.9\n",
      "The temp in 114:kyzyl-suu is 43.77. Lat: 42.34. Long: 78.01\n",
      "The temp in 115:gazojak is 43.03. Lat: 41.19. Long: 61.4\n",
      "The temp in 116:albany is 64.81. Lat: 42.6. Long: -73.97\n",
      "The temp in 117:sinjar is 61.61. Lat: 36.32. Long: 41.88\n",
      "The temp in 118:belfast is 51.31. Lat: 54.58. Long: -5.93\n",
      "The temp in 119:rundu is 75.43. Lat: -17.93. Long: 19.77\n",
      "The temp in 120:bredasdorp is 63. Lat: -34.53. Long: 20.04\n",
      "The temp in 121:kapaa is 79.68. Lat: 22.08. Long: -159.32\n",
      "The temp in 122:aykhal is 21.2. Lat: 66. Long: 111.5\n",
      "The temp in 123:yellowknife is -2.2. Lat: 62.46. Long: -114.35\n",
      "The temp in 124:opuwo is 67.82. Lat: -18.06. Long: 13.84\n",
      "The temp in 125:acari is 69.93. Lat: -15.43. Long: -74.62\n",
      "The temp in 126:bulgan is 26.2. Lat: 48.81. Long: 103.53\n",
      "127:attawapiskat not found.\n",
      "128:skalistyy not found.\n",
      "The temp in 129:san cristobal is 84.2. Lat: 7.77. Long: -72.22\n",
      "The temp in 130:saint george is 55.42. Lat: 37.1. Long: -113.58\n",
      "The temp in 131:cap-aux-meules is 57.2. Lat: 47.38. Long: -61.86\n",
      "The temp in 132:pasni is 74.34. Lat: 25.26. Long: 63.47\n",
      "The temp in 133:kaitangata is 60.01. Lat: -46.28. Long: 169.85\n",
      "134:ust-kamchatsk not found.\n",
      "The temp in 135:port keats is 85.44. Lat: -14.25. Long: 129.55\n",
      "The temp in 136:kahului is 78.1. Lat: 20.89. Long: -156.47\n",
      "The temp in 137:vila velha is 78.37. Lat: -20.33. Long: -40.29\n",
      "The temp in 138:mujiayingzi is 41.52. Lat: 42.12. Long: 118.78\n",
      "The temp in 139:misratah is 68.16. Lat: 32.38. Long: 15.09\n",
      "The temp in 140:jardim is 81.59. Lat: -21.48. Long: -56.14\n",
      "The temp in 141:hasaki is 40.66. Lat: 35.73. Long: 140.83\n",
      "The temp in 142:qaanaaq is 1.83. Lat: 77.48. Long: -69.36\n",
      "The temp in 143:samarai is 79.29. Lat: -10.62. Long: 150.67\n",
      "The temp in 144:pomuch is 82.4. Lat: 20.13. Long: -90.18\n",
      "The temp in 145:porto novo is 82.4. Lat: 6.5. Long: 2.6\n",
      "The temp in 146:popondetta is 80.37. Lat: -8.75. Long: 148.25\n",
      "The temp in 147:sao jose da coroa grande is 76.73. Lat: -8.9. Long: -35.15\n"
     ]
    },
    {
     "name": "stdout",
     "output_type": "stream",
     "text": [
      "The temp in 148:qaqortoq is 24.03. Lat: 60.72. Long: -46.03\n",
      "The temp in 149:saskylakh is -4.22. Lat: 71.92. Long: 114.08\n",
      "The temp in 150:fort nelson is 3.2. Lat: 58.81. Long: -122.7\n",
      "151:saleaula not found.\n",
      "The temp in 152:inongo is 73.62. Lat: -1.95. Long: 18.27\n",
      "The temp in 153:esso is 18. Lat: 55.93. Long: 158.7\n",
      "The temp in 154:chokurdakh is -12.32. Lat: 70.63. Long: 147.92\n",
      "The temp in 155:santa isabel do rio negro is 83.89. Lat: -0.41. Long: -65.02\n",
      "The temp in 156:vao is 71.74. Lat: -22.67. Long: 167.48\n",
      "The temp in 157:shingu is 52.3. Lat: 33.73. Long: 135.98\n",
      "The temp in 158:saint-georges is 84.2. Lat: 12.06. Long: -61.75\n",
      "The temp in 159:riyadh is 71.6. Lat: 24.69. Long: 46.72\n",
      "The temp in 160:kota belud is 75.11. Lat: 6.35. Long: 116.43\n",
      "The temp in 161:hithadhoo is 82.49. Lat: -0.6. Long: 73.08\n",
      "The temp in 162:sept-iles is 40.59. Lat: 50.2. Long: -66.38\n",
      "The temp in 163:luderitz is 68.92. Lat: -26.65. Long: 15.16\n",
      "The temp in 164:astana is 21.2. Lat: 51.18. Long: 71.45\n",
      "The temp in 165:rio gallegos is 64.4. Lat: -51.62. Long: -69.22\n",
      "The temp in 166:touros is 78.8. Lat: -5.2. Long: -35.46\n",
      "The temp in 167:shirvan is 49.57. Lat: 39.95. Long: 48.9\n",
      "The temp in 168:ponta do sol is 62.82. Lat: 32.67. Long: -17.1\n",
      "The temp in 169:nioro is 80.06. Lat: 13.35. Long: -15.75\n",
      "The temp in 170:tiquicheo is 90.5. Lat: 18.88. Long: -100.73\n",
      "The temp in 171:pitimbu is 77. Lat: -7.47. Long: -34.81\n",
      "The temp in 172:douglas is 51.87. Lat: 41.3. Long: -96.17\n",
      "The temp in 173:port blair is 80.92. Lat: 11.67. Long: 92.75\n",
      "The temp in 174:atuona is 78.3. Lat: -9.8. Long: -139.03\n",
      "The temp in 175:banda aceh is 78.82. Lat: 5.56. Long: 95.32\n",
      "The temp in 176:atar is 84.47. Lat: 20.52. Long: -13.05\n",
      "The temp in 177:inhambane is 74.77. Lat: -23.86. Long: 35.38\n",
      "The temp in 178:jamestown is 52.3. Lat: 42.1. Long: -79.24\n",
      "The temp in 179:kathu is 81.09. Lat: 7.92. Long: 98.33\n",
      "The temp in 180:hamilton is 54.73. Lat: 39.18. Long: -84.53\n",
      "The temp in 181:loandjili is 78.96. Lat: -4.76. Long: 11.86\n",
      "The temp in 182:bengkulu is 76.51. Lat: -3.8. Long: 102.27\n",
      "The temp in 183:nabire is 78.21. Lat: -3.37. Long: 135.48\n",
      "The temp in 184:warri is 76.95. Lat: 5.52. Long: 5.75\n",
      "185:hvammstangi not found.\n",
      "The temp in 186:magadan is 2.25. Lat: 59.57. Long: 150.8\n",
      "The temp in 187:camacha is 66.2. Lat: 33.08. Long: -16.33\n",
      "188:grand river south east not found.\n",
      "The temp in 189:severo-kurilsk is 34.3. Lat: 50.68. Long: 156.12\n",
      "The temp in 190:jinchang is 37.27. Lat: 38.5. Long: 102.17\n",
      "The temp in 191:kiunga is 74.93. Lat: -6.12. Long: 141.29\n",
      "The temp in 192:port hardy is 42.1. Lat: 50.7. Long: -127.42\n",
      "The temp in 193:castro is 63.84. Lat: -24.79. Long: -50.01\n",
      "The temp in 194:yerofey pavlovich is 14.67. Lat: 53.97. Long: 121.97\n",
      "The temp in 195:victoria is 65.08. Lat: 22.29. Long: 114.16\n",
      "The temp in 196:vestmannaeyjar is 42.69. Lat: 63.44. Long: -20.27\n",
      "The temp in 197:souillac is 75.2. Lat: -20.52. Long: 57.52\n",
      "The temp in 198:ribeira grande is 59. Lat: 38.52. Long: -28.7\n",
      "The temp in 199:nikolskoye is 36.68. Lat: 59.7. Long: 30.79\n",
      "The temp in 200:ghoti is 62.56. Lat: 19.72. Long: 73.62\n",
      "The temp in 201:macklin is 8.6. Lat: 52.33. Long: -109.93\n",
      "The temp in 202:buchanan is 80.6. Lat: 5.88. Long: -10.05\n",
      "The temp in 203:nanortalik is 29.1. Lat: 60.14. Long: -45.24\n",
      "The temp in 204:jiangkou is 64.4. Lat: 25.49. Long: 119.2\n",
      "The temp in 205:provideniya is 32. Lat: 64.38. Long: -173.3\n",
      "The temp in 206:freeport is 64.04. Lat: 40.66. Long: -73.58\n",
      "207:karkaralinsk not found.\n",
      "The temp in 208:flinders is 69.01. Lat: -34.58. Long: 150.86\n",
      "The temp in 209:reconquista is 78.03. Lat: -29.15. Long: -59.65\n",
      "The temp in 210:tubinskiy is 23. Lat: 52.89. Long: 58.22\n",
      "The temp in 211:salta is 69.8. Lat: -24.79. Long: -65.41\n",
      "The temp in 212:hofn is 36.7. Lat: 64.25. Long: -15.21\n",
      "The temp in 213:neiafu is 80.6. Lat: -18.65. Long: -173.98\n",
      "The temp in 214:georgetown is 77.63. Lat: 5.41. Long: 100.34\n",
      "The temp in 215:tessalit is 72.93. Lat: 20.2. Long: 1.01\n",
      "The temp in 216:yulara is 62.6. Lat: -25.24. Long: 130.99\n",
      "217:scalloway not found.\n",
      "The temp in 218:saldanha is 64.4. Lat: -33.01. Long: 17.94\n",
      "The temp in 219:forest hills is 39.81. Lat: 42.96. Long: -85.49\n",
      "The temp in 220:cherskiy is 4.96. Lat: 68.75. Long: 161.3\n",
      "The temp in 221:zavitinsk is 23.32. Lat: 50.12. Long: 129.45\n",
      "The temp in 222:sisimiut is 15.55. Lat: 66.94. Long: -53.67\n",
      "The temp in 223:horodyshche is 36.12. Lat: 49.28. Long: 31.45\n",
      "224:tsihombe not found.\n",
      "The temp in 225:mandera is 81.28. Lat: 3.94. Long: 41.87\n",
      "The temp in 226:kidal is 72.88. Lat: 18.44. Long: 1.41\n",
      "The temp in 227:guerrero negro is 70.92. Lat: 27.98. Long: -114.06\n",
      "The temp in 228:faanui is 78.6. Lat: -16.48. Long: -151.75\n",
      "The temp in 229:kamenka is 30.99. Lat: 51.32. Long: 42.77\n",
      "The temp in 230:buala is 84.67. Lat: -8.14. Long: 159.59\n",
      "The temp in 231:jundiai is 71.35. Lat: -23.19. Long: -46.88\n",
      "The temp in 232:bethel is 64.78. Lat: 41.37. Long: -73.41\n",
      "The temp in 233:torbay is 38.71. Lat: 47.67. Long: -52.73\n",
      "The temp in 234:ous is 26.55. Lat: 60.91. Long: 61.52\n",
      "The temp in 235:airai is 63.34. Lat: -8.93. Long: 125.41\n",
      "236:belushya guba not found.\n",
      "The temp in 237:pangai is 80.6. Lat: -19.8. Long: -174.35\n",
      "The temp in 238:lorengau is 85.32. Lat: -2.02. Long: 147.27\n",
      "239:tumannyy not found.\n",
      "The temp in 240:lokoja is 81.28. Lat: 7.8. Long: 6.74\n",
      "The temp in 241:geraldton is 48.2. Lat: -28.77. Long: 114.6\n",
      "The temp in 242:lalmohan is 74.84. Lat: 22.34. Long: 90.74\n",
      "The temp in 243:gat is 64.94. Lat: 31.61. Long: 34.76\n",
      "The temp in 244:general pico is 83.19. Lat: -35.66. Long: -63.76\n",
      "The temp in 245:los llanos de aridane is 66.34. Lat: 28.66. Long: -17.92\n",
      "246:nguiu not found.\n",
      "The temp in 247:marechal candido rondon is 74.3. Lat: -24.56. Long: -54.06\n",
      "The temp in 248:wanxian is 57.33. Lat: 30.8. Long: 108.39\n",
      "The temp in 249:longyearbyen is 42.8. Lat: 78.22. Long: 15.64\n",
      "The temp in 250:gao is 75.83. Lat: 16.64. Long: 1.64\n",
      "The temp in 251:nicoya is 80.6. Lat: 10.15. Long: -85.45\n",
      "The temp in 252:olga is 34.25. Lat: 43.74. Long: 135.29\n",
      "The temp in 253:grand gaube is 73.99. Lat: -20.01. Long: 57.66\n",
      "The temp in 254:hami is 32.76. Lat: 42.8. Long: 93.45\n",
      "The temp in 255:lagoa is 61.47. Lat: 39.05. Long: -27.98\n",
      "The temp in 256:biak is 77.92. Lat: -0.91. Long: 122.88\n",
      "The temp in 257:izhma is 28.22. Lat: 65.01. Long: 53.91\n",
      "The temp in 258:ambilobe is 70.61. Lat: -13.2. Long: 49.05\n",
      "The temp in 259:narsaq is 22.75. Lat: 60.92. Long: -46.05\n",
      "The temp in 260:bambous virieux is 74.62. Lat: -20.34. Long: 57.76\n",
      "The temp in 261:zimandu nou is 44.8. Lat: 46.28. Long: 21.4\n",
      "The temp in 262:ust-kuyga is -7.31. Lat: 70.02. Long: 135.6\n",
      "The temp in 263:road town is 75.52. Lat: 18.42. Long: -64.62\n",
      "The temp in 264:port macquarie is 72.37. Lat: -31.43. Long: 152.92\n",
      "The temp in 265:tenenkou is 79.14. Lat: 14.46. Long: -4.92\n",
      "266:burica not found.\n",
      "The temp in 267:nador is 65.37. Lat: 35.17. Long: -2.93\n",
      "The temp in 268:helong is 37.9. Lat: 42.54. Long: 129\n",
      "The temp in 269:bugarama is 61.16. Lat: -2.87. Long: 30.53\n",
      "The temp in 270:tasiilaq is 23.9. Lat: 65.61. Long: -37.64\n",
      "The temp in 271:tuatapere is 57. Lat: -46.13. Long: 167.68\n",
      "The temp in 272:huarmey is 67.41. Lat: -10.07. Long: -78.15\n",
      "The temp in 273:saint-philippe is 67.68. Lat: -21.36. Long: 55.77\n",
      "The temp in 274:abu kamal is 66.36. Lat: 34.45. Long: 40.92\n",
      "The temp in 275:miles city is 24.8. Lat: 46.41. Long: -105.84\n",
      "The temp in 276:castro verde is 55.63. Lat: 37.7. Long: -8.09\n",
      "The temp in 277:buin is 77.4. Lat: -33.73. Long: -70.75\n",
      "The temp in 278:jhol is 68. Lat: 25.96. Long: 68.89\n",
      "The temp in 279:pundaguitan is 82.54. Lat: 6.37. Long: 126.17\n",
      "The temp in 280:narasannapeta is 74.73. Lat: 18.42. Long: 84.05\n",
      "281:hihifo not found.\n",
      "282:vreed en hoop not found.\n",
      "The temp in 283:ketchikan is 37.02. Lat: 55.34. Long: -131.65\n",
      "The temp in 284:mahibadhoo is 82.2. Lat: 3.78. Long: 72.97\n",
      "The temp in 285:kankan is 75.22. Lat: 10.39. Long: -9.31\n",
      "The temp in 286:port hedland is 73.4. Lat: -20.32. Long: 118.57\n",
      "The temp in 287:komsomolskiy is 46.4. Lat: 40.43. Long: 71.72\n",
      "The temp in 288:khandyga is -1.53. Lat: 62.67. Long: 135.6\n",
      "The temp in 289:dunda is 74.7. Lat: -8.12. Long: 34.25\n",
      "The temp in 290:shubarkuduk is 28.74. Lat: 49.14. Long: 56.49\n",
      "The temp in 291:manga is 78.53. Lat: 11.66. Long: -1.07\n",
      "The temp in 292:christchurch is 61.36. Lat: -43.53. Long: 172.63\n",
      "The temp in 293:mayo is 67.32. Lat: 38.89. Long: -76.51\n"
     ]
    },
    {
     "name": "stdout",
     "output_type": "stream",
     "text": [
      "294:satitoa not found.\n",
      "The temp in 295:krasnoselkup is 9.18. Lat: 65.7. Long: 82.47\n",
      "The temp in 296:gumdag is 51.35. Lat: 39.21. Long: 54.59\n",
      "The temp in 297:kieta is 83.14. Lat: -6.22. Long: 155.63\n",
      "The temp in 298:viedma is 73. Lat: -40.81. Long: -63\n",
      "The temp in 299:rio cuarto is 77. Lat: -33.13. Long: -64.35\n",
      "The temp in 300:vestmanna is 41. Lat: 62.16. Long: -7.17\n",
      "The temp in 301:muisne is 82.4. Lat: 0.6. Long: -80.03\n",
      "The temp in 302:erenhot is 32.47. Lat: 43.65. Long: 111.98\n",
      "The temp in 303:stephenville is 75.07. Lat: 32.22. Long: -98.2\n",
      "The temp in 304:chicama is 66.2. Lat: -7.84. Long: -79.15\n",
      "The temp in 305:sao filipe is 80.58. Lat: 14.9. Long: -24.5\n",
      "The temp in 306:sitka is 42.8. Lat: 57.05. Long: -135.33\n",
      "The temp in 307:clyde river is 23. Lat: 70.47. Long: -68.59\n",
      "The temp in 308:trincomalee is 81.75. Lat: 8.57. Long: 81.23\n",
      "The temp in 309:liyang is 53.01. Lat: 29.71. Long: 118.29\n",
      "The temp in 310:bam is 65.44. Lat: 29.11. Long: 58.36\n",
      "The temp in 311:la oroya is 53.58. Lat: -11.52. Long: -75.9\n",
      "The temp in 312:oranjemund is 63.68. Lat: -28.55. Long: 16.43\n",
      "The temp in 313:nouadhibou is 75.2. Lat: 20.93. Long: -17.03\n",
      "314:alotau not found.\n",
      "The temp in 315:tommot is 22.53. Lat: 58.96. Long: 126.29\n",
      "The temp in 316:iralaya is 81.9. Lat: 15. Long: -83.23\n",
      "The temp in 317:san rafael is 83.17. Lat: -34.62. Long: -68.33\n",
      "The temp in 318:port shepstone is 65.35. Lat: -30.74. Long: 30.45\n",
      "The temp in 319:bathsheba is 82.4. Lat: 13.22. Long: -59.52\n",
      "The temp in 320:zabaykalsk is 26.53. Lat: 49.63. Long: 117.32\n",
      "The temp in 321:watsa is 63.79. Lat: 3.04. Long: 29.54\n",
      "The temp in 322:lincoln is 54.28. Lat: 40.8. Long: -96.67\n",
      "The temp in 323:arman is -1.26. Lat: 59.7. Long: 150.17\n",
      "The temp in 324:valky is 33.4. Lat: 49.84. Long: 35.62\n",
      "The temp in 325:bukan is 50.76. Lat: 36.52. Long: 46.21\n",
      "The temp in 326:tiznit is 66.63. Lat: 29.58. Long: -9.5\n",
      "The temp in 327:tineo is 57.96. Lat: 43.34. Long: -6.41\n",
      "The temp in 328:manokwari is 80.78. Lat: -0.87. Long: 134.08\n",
      "The temp in 329:baykit is 20.39. Lat: 61.67. Long: 96.37\n",
      "The temp in 330:udachnyy is 21.2. Lat: 66.42. Long: 112.4\n",
      "331:urfa not found.\n",
      "The temp in 332:lysva is 22.1. Lat: 58.11. Long: 57.81\n",
      "The temp in 333:acapulco is 86. Lat: 16.86. Long: -99.89\n",
      "The temp in 334:mar del plata is 64.67. Lat: -38. Long: -57.56\n",
      "The temp in 335:saint-pierre is 65.66. Lat: -21.34. Long: 55.48\n",
      "The temp in 336:the pas is 12.2. Lat: 53.83. Long: -101.25\n",
      "337:umzimvubu not found.\n",
      "The temp in 338:pisco is 68.59. Lat: -13.7. Long: -76.22\n",
      "The temp in 339:kadaura is 67.59. Lat: 25.98. Long: 79.85\n",
      "The temp in 340:martapura is 75.2. Lat: -3.42. Long: 114.85\n",
      "The temp in 341:kavaratti is 81.93. Lat: 10.57. Long: 72.64\n",
      "The temp in 342:evensk is -1.8. Lat: 61.95. Long: 159.23\n",
      "The temp in 343:apatou is 76.21. Lat: 5.16. Long: -54.35\n",
      "The temp in 344:ostersund is 29.61. Lat: 63.18. Long: 14.64\n",
      "The temp in 345:lazaro cardenas is 82.89. Lat: 17.96. Long: -102.2\n",
      "The temp in 346:faya is 59.9. Lat: 18.39. Long: 42.45\n",
      "The temp in 347:gravdal is 48.2. Lat: 68.12. Long: 13.5\n",
      "The temp in 348:tiksi is 2.26. Lat: 71.69. Long: 128.87\n",
      "The temp in 349:novyy urengoy is -0.42. Lat: 66.08. Long: 76.63\n",
      "350:mys shmidta not found.\n",
      "The temp in 351:port-gentil is 80.08. Lat: -0.72. Long: 8.78\n",
      "The temp in 352:soanierana ivongo is 71.33. Lat: -16.92. Long: 49.58\n",
      "The temp in 353:korla is 39.99. Lat: 41.76. Long: 86.15\n",
      "The temp in 354:barrow is 19.4. Lat: 71.29. Long: -156.79\n",
      "The temp in 355:simao is 52.92. Lat: 22.79. Long: 100.97\n",
      "The temp in 356:torres is 69.76. Lat: -29.34. Long: -49.73\n",
      "The temp in 357:biltine is 79.07. Lat: 14.53. Long: 20.92\n",
      "The temp in 358:rio grande is 66. Lat: -32.03. Long: -52.1\n",
      "The temp in 359:taoudenni is 79.2. Lat: 22.68. Long: -3.98\n",
      "The temp in 360:eureka is 54.16. Lat: 40.8. Long: -124.16\n",
      "The temp in 361:port said is 69.8. Lat: 31.26. Long: 32.28\n",
      "The temp in 362:cabo san lucas is 78.12. Lat: 22.89. Long: -109.91\n",
      "The temp in 363:humberto de campos is 79.63. Lat: -2.6. Long: -43.46\n",
      "The temp in 364:minot is 23.56. Lat: 48.23. Long: -101.3\n",
      "365:zhetybay not found.\n",
      "The temp in 366:kenai is 37.26. Lat: 60.55. Long: -151.26\n",
      "The temp in 367:doha is 77.25. Lat: 25.29. Long: 51.53\n",
      "The temp in 368:matsuura is 44.98. Lat: 33.33. Long: 129.72\n",
      "The temp in 369:rawson is 69.78. Lat: -43.3. Long: -65.1\n",
      "The temp in 370:nacala is 77.38. Lat: -14.54. Long: 40.67\n",
      "The temp in 371:carnarvon is 64.4. Lat: -24.87. Long: 113.63\n",
      "The temp in 372:oussouye is 79.72. Lat: 12.48. Long: -16.55\n",
      "373:dzhusaly not found.\n",
      "The temp in 374:saint-joseph is 69.8. Lat: -21.37. Long: 55.62\n",
      "375:nizhneyansk not found.\n",
      "The temp in 376:mitsamiouli is 77.85. Lat: -11.38. Long: 43.28\n",
      "The temp in 377:dubbo is 75.2. Lat: -32.25. Long: 148.62\n",
      "The temp in 378:necochea is 65.62. Lat: -38.55. Long: -58.74\n",
      "The temp in 379:sfantu gheorghe is 33.84. Lat: 45.87. Long: 25.78\n",
      "380:marcona not found.\n",
      "The temp in 381:jiuquan is 31.03. Lat: 39.74. Long: 98.52\n",
      "The temp in 382:upernavik is 16.74. Lat: 72.79. Long: -56.15\n",
      "The temp in 383:melfi is 46. Lat: 41. Long: 15.65\n",
      "The temp in 384:tocache is 82.49. Lat: -8.18. Long: -76.51\n",
      "385:artyk not found.\n",
      "The temp in 386:bow island is 16.16. Lat: 49.87. Long: -111.37\n",
      "The temp in 387:dalian is 55.4. Lat: 38.91. Long: 121.6\n",
      "The temp in 388:yaan is 79.25. Lat: 7.38. Long: 8.57\n",
      "The temp in 389:zhaotong is 50.56. Lat: 27.32. Long: 103.72\n",
      "The temp in 390:bowmore is 75.99. Lat: 34.94. Long: -79.3\n",
      "The temp in 391:puerto leguizamo is 80.08. Lat: -0.19. Long: -74.78\n",
      "The temp in 392:altamont is 43.21. Lat: 42.21. Long: -121.74\n",
      "The temp in 393:veshkayma is 25.43. Lat: 54.05. Long: 47.13\n",
      "The temp in 394:vidim is 21.04. Lat: 56.41. Long: 103.11\n",
      "The temp in 395:valdivia is 59. Lat: -39.81. Long: -73.25\n",
      "The temp in 396:kisangani is 67.96. Lat: 0.52. Long: 25.2\n",
      "The temp in 397:axim is 78.42. Lat: 4.87. Long: -2.24\n",
      "The temp in 398:ostrovnoy is 33.78. Lat: 68.05. Long: 39.51\n",
      "The temp in 399:suez is 65.43. Lat: 29.97. Long: 32.53\n",
      "The temp in 400:mirnyy is 26.6. Lat: 62.54. Long: 113.96\n",
      "The temp in 401:kondinskoye is 18.52. Lat: 59.65. Long: 67.41\n",
      "The temp in 402:grants is 50. Lat: 35.15. Long: -107.85\n",
      "The temp in 403:namatanai is 82.22. Lat: -3.67. Long: 152.43\n",
      "The temp in 404:leninogorsk is 26.01. Lat: 54.6. Long: 52.46\n",
      "405:tabialan not found.\n",
      "The temp in 406:ucluelet is 46.15. Lat: 48.93. Long: -125.55\n",
      "The temp in 407:grindavik is 35.6. Lat: 63.84. Long: -22.43\n",
      "The temp in 408:malegaon is 64.6. Lat: 20.55. Long: 74.53\n",
      "The temp in 409:vardo is 33.8. Lat: 70.37. Long: 31.11\n",
      "The temp in 410:moses lake is 44.73. Lat: 47.13. Long: -119.28\n",
      "The temp in 411:ambanja is 74.84. Lat: -13.68. Long: 48.45\n",
      "The temp in 412:diamantino is 77.18. Lat: -14.41. Long: -56.45\n",
      "The temp in 413:oytal is 45.27. Lat: 42.91. Long: 73.27\n",
      "414:tarudant not found.\n",
      "The temp in 415:roald is 54.91. Lat: 62.58. Long: 6.13\n",
      "The temp in 416:guasdualito is 78.24. Lat: 7.24. Long: -70.73\n",
      "The temp in 417:dudinka is 6.8. Lat: 69.41. Long: 86.18\n",
      "The temp in 418:sakaiminato is 41. Lat: 35.55. Long: 133.23\n",
      "The temp in 419:westport is 64.06. Lat: 41.14. Long: -73.36\n",
      "The temp in 420:premia de mar is 59.56. Lat: 41.49. Long: 2.37\n",
      "The temp in 421:hovd is 31.32. Lat: 48.01. Long: 91.64\n",
      "The temp in 422:dindori is 66.4. Lat: 22.95. Long: 81.08\n",
      "The temp in 423:guadalajara is 82.31. Lat: 20.67. Long: -103.33\n",
      "The temp in 424:okhotsk is 0.19. Lat: 59.38. Long: 143.3\n",
      "The temp in 425:dingle is 77.05. Lat: 11. Long: 122.67\n",
      "The temp in 426:bonito is 81.72. Lat: -21.12. Long: -56.48\n",
      "The temp in 427:khed brahma is 66.15. Lat: 24.03. Long: 73.05\n",
      "The temp in 428:tazovskiy is -1.16. Lat: 67.47. Long: 78.7\n",
      "The temp in 429:naze is 71.6. Lat: 28.37. Long: 129.48\n",
      "The temp in 430:statesville is 74.39. Lat: 35.78. Long: -80.89\n",
      "The temp in 431:itarema is 80.6. Lat: -2.92. Long: -39.92\n",
      "The temp in 432:jibuti is 80.6. Lat: 11.5. Long: 42.5\n",
      "The temp in 433:berbera is 79.18. Lat: 10.44. Long: 45.01\n",
      "The temp in 434:banepa is 55.4. Lat: 27.63. Long: 85.52\n",
      "The temp in 435:batagay-alyta is -3.39. Lat: 67.8. Long: 130.41\n",
      "436:tabiauea not found.\n",
      "The temp in 437:imbituba is 75.2. Lat: -28.24. Long: -48.67\n",
      "The temp in 438:san patricio is 82.72. Lat: 28.02. Long: -97.52\n",
      "The temp in 439:pevek is 18.46. Lat: 69.7. Long: 170.31\n",
      "The temp in 440:belyy yar is 30.2. Lat: 53.6. Long: 91.39\n",
      "The temp in 441:otane is 63.72. Lat: -39.88. Long: 176.63\n"
     ]
    },
    {
     "name": "stdout",
     "output_type": "stream",
     "text": [
      "The temp in 442:liverpool is 53.04. Lat: 53.41. Long: -2.98\n",
      "The temp in 443:teguise is 69.8. Lat: 29.06. Long: -13.56\n",
      "The temp in 444:copiapo is 62.6. Lat: -27.37. Long: -70.33\n",
      "The temp in 445:lavrentiya is 32.34. Lat: 65.58. Long: -171\n",
      "The temp in 446:basco is 79.36. Lat: 20.45. Long: 121.97\n",
      "The temp in 447:tarsus is 58.19. Lat: 36.92. Long: 34.88\n",
      "The temp in 448:green river is 28.4. Lat: 41.53. Long: -109.47\n",
      "The temp in 449:papara is 81.66. Lat: -3.98. Long: -38.73\n",
      "The temp in 450:stornoway is 52.52. Lat: 58.21. Long: -6.39\n",
      "The temp in 451:gilgit is 53.26. Lat: 35.92. Long: 74.31\n",
      "The temp in 452:pandan is 79.72. Lat: 14.05. Long: 124.17\n",
      "The temp in 453:praia da vitoria is 59. Lat: 38.73. Long: -27.07\n",
      "The temp in 454:shimoda is 45. Lat: 34.67. Long: 138.95\n",
      "The temp in 455:alta floresta is 83.52. Lat: -9.88. Long: -56.09\n",
      "The temp in 456:kyzyl-mazhalyk is 20.01. Lat: 51.13. Long: 90.6\n",
      "The temp in 457:longyan is 48.99. Lat: 25.11. Long: 117.02\n",
      "The temp in 458:fallon is 47.62. Lat: 39.47. Long: -118.78\n",
      "The temp in 459:nargana is 82.76. Lat: 9.44. Long: -78.59\n",
      "The temp in 460:asyut is 59.63. Lat: 27.18. Long: 31.18\n",
      "The temp in 461:abnub is 58.89. Lat: 27.27. Long: 31.15\n",
      "The temp in 462:tonota is 71.01. Lat: -21.48. Long: 27.48\n",
      "The temp in 463:lac du bonnet is 28.65. Lat: 50.25. Long: -96.06\n",
      "The temp in 464:mutoko is 68.34. Lat: -17.4. Long: 32.23\n",
      "The temp in 465:constitucion is 57.36. Lat: -35.33. Long: -72.42\n",
      "The temp in 466:tecoanapa is 84.38. Lat: 16.52. Long: -98.75\n",
      "The temp in 467:sao felix do xingu is 80.76. Lat: -6.64. Long: -51.99\n",
      "The temp in 468:jaguaribe is 87.93. Lat: -5.89. Long: -38.62\n",
      "The temp in 469:sorong is 78.53. Lat: -0.88. Long: 131.25\n",
      "The temp in 470:moose factory is 28.4. Lat: 51.26. Long: -80.61\n",
      "471:palabuhanratu not found.\n",
      "The temp in 472:ulverstone is 62.46. Lat: -41.15. Long: 146.17\n",
      "The temp in 473:caravelas is 74.95. Lat: -17.71. Long: -39.25\n",
      "The temp in 474:mahon is 59. Lat: 39.89. Long: 4.27\n",
      "The temp in 475:jiayuguan is 32.95. Lat: 39.82. Long: 98.3\n",
      "The temp in 476:beringovskiy is 20.26. Lat: 63.05. Long: 179.32\n",
      "The temp in 477:karratha is 71.76. Lat: -20.74. Long: 116.85\n",
      "The temp in 478:maniitsoq is 18.7. Lat: 65.42. Long: -52.9\n",
      "The temp in 479:henties bay is 57.99. Lat: -22.12. Long: 14.28\n",
      "The temp in 480:lasa is 38.61. Lat: 46.62. Long: 10.7\n",
      "The temp in 481:bonfim is 84.02. Lat: 3.08. Long: -59.95\n",
      "The temp in 482:baymak is 22.64. Lat: 52.59. Long: 58.32\n",
      "The temp in 483:mokrous is 25.3. Lat: 51.23. Long: 47.52\n",
      "The temp in 484:kanniyakumari is 80.82. Lat: 8.08. Long: 77.57\n",
      "The temp in 485:lubango is 63.23. Lat: -14.92. Long: 13.49\n",
      "The temp in 486:panama city is 80.89. Lat: 8.99. Long: -79.52\n",
      "487:jarjis not found.\n",
      "The temp in 488:cayambe is 68. Lat: 0.05. Long: -78.13\n",
      "The temp in 489:umm kaddadah is 75.24. Lat: 13.6. Long: 26.69\n",
      "The temp in 490:angermunde is 41.54. Lat: 53.02. Long: 14\n",
      "The temp in 491:port hawkesbury is 55.53. Lat: 45.62. Long: -61.35\n",
      "The temp in 492:panguna is 77.41. Lat: -6.32. Long: 155.48\n",
      "493:solsvik not found.\n",
      "The temp in 494:wadern is 44.98. Lat: 49.53. Long: 6.88\n",
      "The temp in 495:the valley is 76.23. Lat: 18.22. Long: -63.06\n",
      "The temp in 496:minggang is 53.02. Lat: 32.46. Long: 114.05\n",
      "The temp in 497:waingapu is 81.99. Lat: -9.66. Long: 120.26\n",
      "The temp in 498:ishigaki is 75.2. Lat: 24.34. Long: 124.16\n",
      "The temp in 499:amahai is 84.99. Lat: -3.33. Long: 128.92\n",
      "The temp in 500:manggar is 80.51. Lat: -2.88. Long: 108.27\n",
      "The temp in 501:sainte-suzanne is 67.28. Lat: -20.91. Long: 55.61\n",
      "502:abu jubayhah not found.\n",
      "The temp in 503:muros is 54.9. Lat: 42.78. Long: -9.06\n",
      "The temp in 504:saharanpur is 60.85. Lat: 29.97. Long: 77.55\n",
      "The temp in 505:tilichiki is 10.47. Lat: 60.47. Long: 166.1\n",
      "The temp in 506:newport is 50.47. Lat: 51.59. Long: -3\n",
      "507:karistos not found.\n",
      "508:mrirt not found.\n",
      "The temp in 509:nanpiao is 49.33. Lat: 41.1. Long: 120.75\n",
      "The temp in 510:nuuk is 13.39. Lat: 64.18. Long: -51.72\n",
      "The temp in 511:bressuire is 55.99. Lat: 46.92. Long: -0.5\n",
      "The temp in 512:boguchany is 30.04. Lat: 58.38. Long: 97.45\n",
      "The temp in 513:chumikan is 19.69. Lat: 54.72. Long: 135.31\n",
      "The temp in 514:bowen is 75.2. Lat: -20.02. Long: 148.23\n",
      "The temp in 515:hay river is 4.12. Lat: 60.82. Long: -115.8\n",
      "The temp in 516:paka is 77. Lat: 4.64. Long: 103.44\n",
      "The temp in 517:sayat is 51.8. Lat: 38.78. Long: 63.88\n",
      "The temp in 518:shache is 31.84. Lat: 38.42. Long: 77.24\n",
      "The temp in 519:kalamare is 70.18. Lat: -22.93. Long: 26.57\n",
      "The temp in 520:mackenzie is 23. Lat: 55.3. Long: -123.17\n",
      "The temp in 521:denpasar is 78.8. Lat: -8.65. Long: 115.22\n",
      "The temp in 522:lishui is 48.97. Lat: 28.46. Long: 119.91\n",
      "The temp in 523:la ronge is 5. Lat: 55.1. Long: -105.28\n",
      "The temp in 524:aswan is 64.44. Lat: 24.09. Long: 32.91\n",
      "The temp in 525:nandurbar is 67.78. Lat: 21.37. Long: 74.25\n",
      "The temp in 526:pedras de fogo is 77. Lat: -7.4. Long: -35.12\n",
      "The temp in 527:shirokiy is 23.16. Lat: 49.76. Long: 129.52\n",
      "The temp in 528:nyimba is 79.02. Lat: -14.56. Long: 30.81\n",
      "The temp in 529:vanavara is 17.58. Lat: 60.34. Long: 102.28\n",
      "The temp in 530:kars is 28.4. Lat: 40.6. Long: 43.09\n",
      "The temp in 531:gambela is 73.2. Lat: 8.25. Long: 34.58\n",
      "The temp in 532:ilinskiy is 30.15. Lat: 55.62. Long: 38.12\n",
      "The temp in 533:oktyabrskoye is 28.4. Lat: 43.06. Long: 44.74\n",
      "The temp in 534:rabo de peixe is 57.2. Lat: 37.8. Long: -25.58\n",
      "The temp in 535:ellisras is 70.68. Lat: -23.66. Long: 27.74\n",
      "The temp in 536:aklavik is 7.65. Lat: 68.22. Long: -135.01\n",
      "The temp in 537:gebre guracha is 50.77. Lat: 9.8. Long: 38.4\n",
      "The temp in 538:verkhnevilyuysk is 20.64. Lat: 63.45. Long: 120.32\n",
      "The temp in 539:poum is 75.24. Lat: -20.23. Long: 164.02\n",
      "The temp in 540:hunterville is 63.01. Lat: -39.93. Long: 175.57\n",
      "The temp in 541:quatre cocos is 74.57. Lat: -20.21. Long: 57.76\n",
      "The temp in 542:ardakan is 60.8. Lat: 32.31. Long: 54.02\n",
      "The temp in 543:baley is 21.45. Lat: 51.6. Long: 116.63\n",
      "The temp in 544:grand-santi is 78.96. Lat: 4.25. Long: -54.38\n",
      "The temp in 545:narrabri is 73.4. Lat: -30.32. Long: 149.78\n",
      "The temp in 546:husavik is 28.4. Lat: 66.04. Long: -17.34\n",
      "The temp in 547:yerbogachen is 13.23. Lat: 61.28. Long: 108.01\n",
      "The temp in 548:puqi is 54.21. Lat: 29.72. Long: 113.88\n",
      "The temp in 549:wainwright is 6.12. Lat: 52.84. Long: -110.86\n",
      "The temp in 550:carauari is 84.87. Lat: -4.88. Long: -66.9\n",
      "The temp in 551:prince rupert is 38.52. Lat: 54.32. Long: -130.32\n",
      "The temp in 552:deming is 62.6. Lat: 32.27. Long: -107.76\n",
      "The temp in 553:juliaca is 61.45. Lat: -15.5. Long: -70.13\n",
      "The temp in 554:hrymayliv is 36.25. Lat: 49.33. Long: 26.01\n",
      "The temp in 555:kaoma is 68.23. Lat: -14.78. Long: 24.8\n",
      "The temp in 556:baghdad is 62.6. Lat: 33.34. Long: 44.4\n",
      "The temp in 557:annau is 50. Lat: 37.89. Long: 58.52\n",
      "The temp in 558:tigil is 21.07. Lat: 57.8. Long: 158.67\n",
      "The temp in 559:escarcega is 83.34. Lat: 18.61. Long: -90.75\n",
      "The temp in 560:chapais is 41. Lat: 49.78. Long: -74.85\n",
      "561:falealupo not found.\n",
      "The temp in 562:panhala is 59.65. Lat: 16.82. Long: 74.12\n",
      "The temp in 563:carutapera is 80.62. Lat: -1.2. Long: -46.02\n",
      "The temp in 564:exaplatanos is 54. Lat: 40.98. Long: 22.12\n",
      "The temp in 565:kirakira is 84.92. Lat: -10.45. Long: 161.92\n",
      "The temp in 566:nara is 43.12. Lat: 34.69. Long: 135.8\n",
      "The temp in 567:safaga is 72.95. Lat: 26.73. Long: 33.94\n",
      "The temp in 568:townsville is 78.94. Lat: -19.25. Long: 146.8\n",
      "The temp in 569:pangkalanbuun is 73.42. Lat: -2.68. Long: 111.62\n",
      "The temp in 570:uulu is 45. Lat: 58.28. Long: 24.58\n",
      "The temp in 571:jolalpan is 89.01. Lat: 18.32. Long: -98.84\n",
      "The temp in 572:kushima is 45.68. Lat: 31.46. Long: 131.23\n",
      "The temp in 573:mount isa is 77. Lat: -20.73. Long: 139.5\n",
      "The temp in 574:sao paulo de olivenca is 85.14. Lat: -3.38. Long: -68.87\n",
      "The temp in 575:paranaiba is 75.27. Lat: -19.68. Long: -51.19\n",
      "The temp in 576:conceicao do mato dentro is 68.95. Lat: -19.04. Long: -43.42\n",
      "The temp in 577:balagansk is 26.24. Lat: 54.01. Long: 103.05\n",
      "The temp in 578:bila tserkva is 37. Lat: 49.81. Long: 30.11\n",
      "579:utiroa not found.\n",
      "The temp in 580:tanete is 75.92. Lat: -3.94. Long: 119.78\n",
      "581:kerki not found.\n",
      "582:saryshagan not found.\n",
      "The temp in 583:nurota is 50. Lat: 40.56. Long: 65.69\n",
      "The temp in 584:garowe is 74.46. Lat: 8.41. Long: 48.48\n",
      "The temp in 585:delano is 59.27. Lat: 35.77. Long: -119.25\n",
      "The temp in 586:atasu is 31.6. Lat: 48.68. Long: 71.64\n",
      "587:eldikan not found.\n",
      "The temp in 588:grand baie is 73.99. Lat: -20.02. Long: 57.58\n"
     ]
    },
    {
     "name": "stdout",
     "output_type": "stream",
     "text": [
      "The temp in 589:mehamn is 37.4. Lat: 71.04. Long: 27.85\n",
      "The temp in 590:san vicente is 71.24. Lat: -26.62. Long: -54.13\n",
      "591:buon me thuot not found.\n",
      "The temp in 592:bubaque is 84.25. Lat: 11.28. Long: -15.83\n",
      "The temp in 593:mayumba is 78.19. Lat: -3.43. Long: 10.66\n",
      "The temp in 594:vega de alatorre is 80.26. Lat: 20.03. Long: -96.63\n",
      "The temp in 595:nome is 33.31. Lat: 64.5. Long: -165.41\n",
      "The temp in 596:clarksville is 56.91. Lat: 36.53. Long: -87.36\n",
      "The temp in 597:zlitan is 68.27. Lat: 32.47. Long: 14.57\n",
      "The temp in 598:mucuri is 76.12. Lat: -18.09. Long: -39.55\n",
      "The temp in 599:svetlaya is 36.28. Lat: 46.54. Long: 138.33\n",
      "The temp in 600:kangavar is 48.2. Lat: 34.5. Long: 47.97\n",
      "The temp in 601:kholmogory is 35.6. Lat: 64.22. Long: 41.66\n",
      "The temp in 602:ust-tsilma is 28.33. Lat: 65.44. Long: 52.15\n",
      "The temp in 603:bohodukhiv is 33.39. Lat: 50.16. Long: 35.53\n",
      "The temp in 604:minbu is 70.92. Lat: 20.18. Long: 94.88\n",
      "The temp in 605:abalak is 18.25. Lat: 58.13. Long: 68.59\n",
      "The temp in 606:marzuq is 63.36. Lat: 14.4. Long: 46.47\n",
      "The temp in 607:bilibino is 1.17. Lat: 68.05. Long: 166.44\n",
      "The temp in 608:hays is 79.79. Lat: 30.05. Long: -98.03\n",
      "The temp in 609:vikhorevka is 30.2. Lat: 56.12. Long: 101.16\n",
      "The temp in 610:bardstown is 57.69. Lat: 37.81. Long: -85.47\n",
      "The temp in 611:half moon bay is 57.54. Lat: 37.46. Long: -122.43\n",
      "The temp in 612:biloela is 72.19. Lat: -24.42. Long: 150.5\n",
      "The temp in 613:anjiang is 52.11. Lat: 27.32. Long: 110.1\n",
      "The temp in 614:baripada is 71.82. Lat: 21.93. Long: 86.72\n",
      "The temp in 615:amapa is 74.91. Lat: 1. Long: -52\n",
      "The temp in 616:kununurra is 82.4. Lat: -15.77. Long: 128.73\n",
      "The temp in 617:itaperucu is 62.47. Lat: -25.22. Long: -49.35\n",
      "The temp in 618:alamos is 78.01. Lat: 27.02. Long: -108.93\n",
      "The temp in 619:do gonbadan is 60.8. Lat: 30.36. Long: 50.8\n",
      "The temp in 620:boa vista is 82.4. Lat: 2.82. Long: -60.67\n",
      "The temp in 621:adrar is 79.81. Lat: 20.5. Long: -10.07\n",
      "The temp in 622:ballina is 70.07. Lat: -28.87. Long: 153.57\n",
      "The temp in 623:burayevo is 23.43. Lat: 55.84. Long: 55.41\n",
      "The temp in 624:grodzisk mazowiecki is 42.57. Lat: 52.1. Long: 20.63\n",
      "The temp in 625:otjimbingwe is 68.54. Lat: -22.35. Long: 16.13\n",
      "The temp in 626:kabelvag is 48.2. Lat: 68.21. Long: 14.48\n",
      "The temp in 627:hounde is 79.02. Lat: 11.5. Long: -3.52\n",
      "The temp in 628:nemuro is 41.27. Lat: 43.32. Long: 145.57\n",
      "629:asayita not found.\n",
      "The temp in 630:harper is 78.44. Lat: 4.38. Long: -7.72\n",
      "The temp in 631:margate is 52.9. Lat: 51.38. Long: 1.39\n",
      "Cities: 632\n",
      "Lats: 583\n",
      "Longs: 583\n",
      "Temp: 583\n",
      "clouds: 583\n",
      "humid: 583\n",
      "wind: 583\n"
     ]
    }
   ],
   "source": [
    "url=\"http://api.openweathermap.org/data/2.5/weather?\"\n",
    "#units: imperial or metric\n",
    "units=\"imperial\"\n",
    "query_url=f\"{url}appid={weather_api_key}&units={units}&q=\"\n",
    "\n",
    "#empty arrays will store weather data for cities\n",
    "temp=[]\n",
    "latitude=[]\n",
    "longitude=[]\n",
    "clouds=[]\n",
    "humid=[]\n",
    "wind=[]\n",
    "cityname=[]\n",
    "\n",
    "#error handling for cities that do not have weather data\n",
    "for city in cities:\n",
    "    try:\n",
    "        response=requests.get(query_url+city).json()\n",
    "        #check the json format for calls\n",
    "        #pprint(response)\n",
    "        cityname.append(response['name'])\n",
    "        temp.append(response['main']['temp'])\n",
    "        latitude.append(response['coord']['lat'])\n",
    "        longitude.append(response['coord']['lon'])\n",
    "        clouds.append(response['clouds']['all'])\n",
    "        humid.append(response['main']['humidity'])\n",
    "        wind.append(response['wind']['speed'])\n",
    "        print(f\"The temp in {cities.index(city)}:{city} is {response['main']['temp']}. Lat: {response['coord']['lat']}. Long: {response['coord']['lon']}\")\n",
    "    except: \n",
    "        print (f\"{cities.index(city)}:{city} not found.\")\n",
    "        \n",
    "#check list lengths to make sure they all match prior to joining in dataframe (part of early troubleshooting)\n",
    "print(f\"Cities: {len(cities)}\")\n",
    "print(f\"Lats: {len(latitude)}\")\n",
    "print(f\"Longs: {len(longitude)}\")\n",
    "print(f\"Temp: {len(temp)}\")\n",
    "print(f\"clouds: {len(clouds)}\")\n",
    "print(f\"humid: {len(humid)}\")\n",
    "print(f\"wind: {len(wind)}\")\n",
    "        "
   ]
  },
  {
   "cell_type": "code",
   "execution_count": 20,
   "metadata": {},
   "outputs": [
    {
     "data": {
      "text/plain": [
       "583"
      ]
     },
     "execution_count": 20,
     "metadata": {},
     "output_type": "execute_result"
    }
   ],
   "source": [
    "len(cityname)"
   ]
  },
  {
   "cell_type": "markdown",
   "metadata": {},
   "source": [
    "### Convert Raw Data to DataFrame\n",
    "* Export the city data into a .csv.\n",
    "* Display the DataFrame"
   ]
  },
  {
   "cell_type": "code",
   "execution_count": 21,
   "metadata": {},
   "outputs": [
    {
     "data": {
      "text/html": [
       "<div>\n",
       "<style scoped>\n",
       "    .dataframe tbody tr th:only-of-type {\n",
       "        vertical-align: middle;\n",
       "    }\n",
       "\n",
       "    .dataframe tbody tr th {\n",
       "        vertical-align: top;\n",
       "    }\n",
       "\n",
       "    .dataframe thead th {\n",
       "        text-align: right;\n",
       "    }\n",
       "</style>\n",
       "<table border=\"1\" class=\"dataframe\">\n",
       "  <thead>\n",
       "    <tr style=\"text-align: right;\">\n",
       "      <th></th>\n",
       "      <th>city</th>\n",
       "      <th>lat</th>\n",
       "      <th>long</th>\n",
       "      <th>temp</th>\n",
       "      <th>clouds</th>\n",
       "      <th>humid</th>\n",
       "      <th>wind</th>\n",
       "    </tr>\n",
       "  </thead>\n",
       "  <tbody>\n",
       "    <tr>\n",
       "      <th>0</th>\n",
       "      <td>Yar-Sale</td>\n",
       "      <td>66.83</td>\n",
       "      <td>70.83</td>\n",
       "      <td>5.25</td>\n",
       "      <td>94</td>\n",
       "      <td>95</td>\n",
       "      <td>9.60</td>\n",
       "    </tr>\n",
       "    <tr>\n",
       "      <th>1</th>\n",
       "      <td>Honningsvåg</td>\n",
       "      <td>70.98</td>\n",
       "      <td>25.97</td>\n",
       "      <td>37.40</td>\n",
       "      <td>0</td>\n",
       "      <td>74</td>\n",
       "      <td>19.46</td>\n",
       "    </tr>\n",
       "    <tr>\n",
       "      <th>2</th>\n",
       "      <td>Pilar</td>\n",
       "      <td>-9.60</td>\n",
       "      <td>-35.96</td>\n",
       "      <td>75.20</td>\n",
       "      <td>20</td>\n",
       "      <td>78</td>\n",
       "      <td>8.05</td>\n",
       "    </tr>\n",
       "    <tr>\n",
       "      <th>3</th>\n",
       "      <td>Agirish</td>\n",
       "      <td>61.92</td>\n",
       "      <td>63.02</td>\n",
       "      <td>24.53</td>\n",
       "      <td>100</td>\n",
       "      <td>98</td>\n",
       "      <td>9.98</td>\n",
       "    </tr>\n",
       "    <tr>\n",
       "      <th>4</th>\n",
       "      <td>Kishni</td>\n",
       "      <td>27.02</td>\n",
       "      <td>79.26</td>\n",
       "      <td>66.25</td>\n",
       "      <td>0</td>\n",
       "      <td>40</td>\n",
       "      <td>1.59</td>\n",
       "    </tr>\n",
       "    <tr>\n",
       "      <th>5</th>\n",
       "      <td>Boende</td>\n",
       "      <td>-0.22</td>\n",
       "      <td>20.87</td>\n",
       "      <td>68.50</td>\n",
       "      <td>17</td>\n",
       "      <td>97</td>\n",
       "      <td>2.53</td>\n",
       "    </tr>\n",
       "    <tr>\n",
       "      <th>6</th>\n",
       "      <td>Alihe</td>\n",
       "      <td>50.57</td>\n",
       "      <td>123.72</td>\n",
       "      <td>23.13</td>\n",
       "      <td>100</td>\n",
       "      <td>97</td>\n",
       "      <td>2.04</td>\n",
       "    </tr>\n",
       "    <tr>\n",
       "      <th>7</th>\n",
       "      <td>Mataura</td>\n",
       "      <td>-46.19</td>\n",
       "      <td>168.86</td>\n",
       "      <td>57.00</td>\n",
       "      <td>97</td>\n",
       "      <td>80</td>\n",
       "      <td>8.01</td>\n",
       "    </tr>\n",
       "    <tr>\n",
       "      <th>8</th>\n",
       "      <td>Antofagasta</td>\n",
       "      <td>-23.65</td>\n",
       "      <td>-70.40</td>\n",
       "      <td>64.40</td>\n",
       "      <td>20</td>\n",
       "      <td>68</td>\n",
       "      <td>17.22</td>\n",
       "    </tr>\n",
       "    <tr>\n",
       "      <th>9</th>\n",
       "      <td>Vaini</td>\n",
       "      <td>-21.20</td>\n",
       "      <td>-175.20</td>\n",
       "      <td>78.80</td>\n",
       "      <td>40</td>\n",
       "      <td>78</td>\n",
       "      <td>9.17</td>\n",
       "    </tr>\n",
       "  </tbody>\n",
       "</table>\n",
       "</div>"
      ],
      "text/plain": [
       "          city    lat    long   temp  clouds  humid   wind\n",
       "0     Yar-Sale  66.83   70.83   5.25      94     95   9.60\n",
       "1  Honningsvåg  70.98   25.97  37.40       0     74  19.46\n",
       "2        Pilar  -9.60  -35.96  75.20      20     78   8.05\n",
       "3      Agirish  61.92   63.02  24.53     100     98   9.98\n",
       "4       Kishni  27.02   79.26  66.25       0     40   1.59\n",
       "5       Boende  -0.22   20.87  68.50      17     97   2.53\n",
       "6        Alihe  50.57  123.72  23.13     100     97   2.04\n",
       "7      Mataura -46.19  168.86  57.00      97     80   8.01\n",
       "8  Antofagasta -23.65  -70.40  64.40      20     68  17.22\n",
       "9        Vaini -21.20 -175.20  78.80      40     78   9.17"
      ]
     },
     "execution_count": 21,
     "metadata": {},
     "output_type": "execute_result"
    }
   ],
   "source": [
    "#combine weather data to dictionary and array\n",
    "weather_dict={\n",
    "    \"city\":cityname,\n",
    "    \"lat\":latitude,\n",
    "    \"long\":longitude,\n",
    "    \"temp\":temp,\n",
    "    \"clouds\":clouds,\n",
    "    \"humid\":humid,\n",
    "    \"wind\":wind\n",
    "}\n",
    "weather_data=pd.DataFrame(weather_dict)\n",
    "weather_data.head(10)"
   ]
  },
  {
   "cell_type": "markdown",
   "metadata": {},
   "source": [
    "## Inspect the data and remove the cities where the humidity > 100%.\n",
    "----\n",
    "Skip this step if there are no cities that have humidity > 100%. "
   ]
  },
  {
   "cell_type": "code",
   "execution_count": 22,
   "metadata": {},
   "outputs": [
    {
     "data": {
      "text/plain": [
       "count    583.000000\n",
       "mean      73.790738\n",
       "std       18.921363\n",
       "min       15.000000\n",
       "25%       66.500000\n",
       "50%       78.000000\n",
       "75%       88.000000\n",
       "max      100.000000\n",
       "Name: humidity, dtype: float64"
      ]
     },
     "execution_count": 22,
     "metadata": {},
     "output_type": "execute_result"
    }
   ],
   "source": [
    "#check for cities with out of range humidity: gt 100%\n",
    "\n",
    "weather_data['humidity'] = pd.to_numeric(weather_data['humid'], errors='coerce')\n",
    "weather_data['humidity'].describe()\n",
    "#No places with humidity >100\n",
    "#humid_df=weather_data.loc[weather_data[\"humidity\"]>100]"
   ]
  },
  {
   "cell_type": "code",
   "execution_count": 6,
   "metadata": {},
   "outputs": [
    {
     "data": {
      "text/plain": [
       "count    0.0\n",
       "mean     NaN\n",
       "std      NaN\n",
       "min      NaN\n",
       "25%      NaN\n",
       "50%      NaN\n",
       "75%      NaN\n",
       "max      NaN\n",
       "Name: clouds, dtype: float64"
      ]
     },
     "execution_count": 6,
     "metadata": {},
     "output_type": "execute_result"
    }
   ],
   "source": [
    "#check cloudiness for out of range: Gt 100%\n",
    "\n",
    "weather_data['clouds'] = pd.to_numeric(weather_data['clouds'], errors='coerce')\n",
    "weather_data['clouds'].describe()"
   ]
  },
  {
   "cell_type": "code",
   "execution_count": 7,
   "metadata": {},
   "outputs": [],
   "source": [
    "#  Get the indices of cities that have humidity over 100%.\n",
    "# No cities with humidity over 100%\n"
   ]
  },
  {
   "cell_type": "code",
   "execution_count": 8,
   "metadata": {},
   "outputs": [],
   "source": [
    "# Make a new DataFrame equal to the city data to drop all humidity outliers by index.\n",
    "# Passing \"inplace=False\" will make a copy of the city_data DataFrame, which we call \"clean_city_data\".\n",
    "# No cities with humidity over 100%"
   ]
  },
  {
   "cell_type": "code",
   "execution_count": 23,
   "metadata": {},
   "outputs": [],
   "source": [
    "# Extract relevant fields from the data frame\n",
    "\n",
    "\n",
    "# Export the City_Data into a csv\n",
    "weather_data.to_csv('weather.csv',index=False)"
   ]
  },
  {
   "cell_type": "markdown",
   "metadata": {},
   "source": [
    "## Plotting the Data\n",
    "* Use proper labeling of the plots using plot titles (including date of analysis) and axes labels.\n",
    "* Save the plotted figures as .pngs."
   ]
  },
  {
   "cell_type": "markdown",
   "metadata": {},
   "source": [
    "## Latitude vs. Temperature Plot"
   ]
  },
  {
   "cell_type": "code",
   "execution_count": 24,
   "metadata": {
    "scrolled": true
   },
   "outputs": [
    {
     "data": {
      "image/png": "[encoded data removed]",
      "text/plain": [
       "<Figure size 432x288 with 1 Axes>"
      ]
     },
     "metadata": {
      "needs_background": "light"
     },
     "output_type": "display_data"
    }
   ],
   "source": [
    "#define a function for creating scatter plots for various weather attributes by temperature\n",
    "#input (data frame, x value, y value, title of plot)\n",
    "#create scatter plot and export to .png\n",
    "def my_plot(mydf, x, y, title):\n",
    "    plt.scatter(mydf[x],mydf[y], marker=\"o\")\n",
    "    #new_title=title+\" \"+str(today)\n",
    "    new_title=title+\" \"\n",
    "    plt.title(new_title)\n",
    "    plt.ylabel(y)\n",
    "    plt.xlabel(x)\n",
    "    plt.grid(True)\n",
    "    #filename=title+\"_\"+str(today)+\".png\"\n",
    "    filename=title+\"_\"+\".png\"\n",
    "    plt.savefig(filename, format='png')\n",
    "    plt.show()\n",
    "\n",
    "my_plot(weather_data,'lat','temp','Latitude vs Temperature')"
   ]
  },
  {
   "cell_type": "markdown",
   "metadata": {},
   "source": [
    "## Latitude vs. Humidity Plot"
   ]
  },
  {
   "cell_type": "code",
   "execution_count": 25,
   "metadata": {},
   "outputs": [
    {
     "data": {
      "image/png": "[encoded data removed]",
      "text/plain": [
       "<Figure size 432x288 with 1 Axes>"
      ]
     },
     "metadata": {
      "needs_background": "light"
     },
     "output_type": "display_data"
    }
   ],
   "source": [
    "my_plot(weather_data,'lat','humidity','Latitude vs Humidity')"
   ]
  },
  {
   "cell_type": "markdown",
   "metadata": {},
   "source": [
    "## Latitude vs. Cloudiness Plot"
   ]
  },
  {
   "cell_type": "code",
   "execution_count": 26,
   "metadata": {},
   "outputs": [
    {
     "data": {
      "image/png": "[encoded data removed]",
      "text/plain": [
       "<Figure size 432x288 with 1 Axes>"
      ]
     },
     "metadata": {
      "needs_background": "light"
     },
     "output_type": "display_data"
    }
   ],
   "source": [
    "my_plot(weather_data,'lat','clouds','Latitude vs Cloudiness')"
   ]
  },
  {
   "cell_type": "code",
   "execution_count": 13,
   "metadata": {},
   "outputs": [],
   "source": [
    "##Cloudiness does not appear to be related to latitude but it does appear to be measured by common break points such as 20%, \n",
    "##40%,75%, and 100%"
   ]
  },
  {
   "cell_type": "markdown",
   "metadata": {},
   "source": [
    "## Latitude vs. Wind Speed Plot"
   ]
  },
  {
   "cell_type": "code",
   "execution_count": 27,
   "metadata": {},
   "outputs": [
    {
     "data": {
      "image/png": "[encoded data removed]",
      "text/plain": [
       "<Figure size 432x288 with 1 Axes>"
      ]
     },
     "metadata": {
      "needs_background": "light"
     },
     "output_type": "display_data"
    }
   ],
   "source": [
    "my_plot(weather_data,'lat','wind','Latitude vs Wind Speed')"
   ]
  },
  {
   "cell_type": "markdown",
   "metadata": {},
   "source": [
    "## Linear Regression"
   ]
  },
  {
   "cell_type": "code",
   "execution_count": 15,
   "metadata": {},
   "outputs": [],
   "source": [
    "# OPTIONAL: Create a function to create Linear Regression plots"
   ]
  },
  {
   "cell_type": "code",
   "execution_count": 16,
   "metadata": {},
   "outputs": [
    {
     "data": {
      "text/plain": [
       "count    0.0\n",
       "mean     NaN\n",
       "std      NaN\n",
       "min      NaN\n",
       "25%      NaN\n",
       "50%      NaN\n",
       "75%      NaN\n",
       "max      NaN\n",
       "Name: lat, dtype: float64"
      ]
     },
     "execution_count": 16,
     "metadata": {},
     "output_type": "execute_result"
    }
   ],
   "source": [
    "# Create Northern and Southern Hemisphere DataFrames\n",
    "weather_data['lat'] = pd.to_numeric(weather_data['lat'], errors='coerce')\n",
    "weather_data['lat'].describe()\n"
   ]
  },
  {
   "cell_type": "markdown",
   "metadata": {},
   "source": [
    "####  Northern Hemisphere - Max Temp vs. Latitude Linear Regression"
   ]
  },
  {
   "cell_type": "code",
   "execution_count": 28,
   "metadata": {},
   "outputs": [],
   "source": [
    "north_data=weather_data.loc[weather_data['lat']>0]"
   ]
  },
  {
   "cell_type": "markdown",
   "metadata": {},
   "source": [
    "####  Southern Hemisphere - Max Temp vs. Latitude Linear Regression"
   ]
  },
  {
   "cell_type": "code",
   "execution_count": 29,
   "metadata": {},
   "outputs": [],
   "source": [
    "south_data=weather_data.loc[weather_data['lat']<0]"
   ]
  },
  {
   "cell_type": "markdown",
   "metadata": {},
   "source": [
    "####  Northern Hemisphere - Humidity (%) vs. Latitude Linear Regression"
   ]
  },
  {
   "cell_type": "code",
   "execution_count": 30,
   "metadata": {},
   "outputs": [],
   "source": [
    "##my_reg(north_data,'lat','humidity','Humidity vs Lat North')\n",
    "my_reg=(north_data,'lat','humidity','Humidity vs Lat North')"
   ]
  },
  {
   "cell_type": "markdown",
   "metadata": {},
   "source": [
    "####  Southern Hemisphere - Humidity (%) vs. Latitude Linear Regression"
   ]
  },
  {
   "cell_type": "code",
   "execution_count": 31,
   "metadata": {},
   "outputs": [],
   "source": [
    "my_reg=(south_data,'lat','humidity','Humidity vs Lat South')"
   ]
  },
  {
   "cell_type": "markdown",
   "metadata": {},
   "source": [
    "####  Northern Hemisphere - Cloudiness (%) vs. Latitude Linear Regression"
   ]
  },
  {
   "cell_type": "code",
   "execution_count": 32,
   "metadata": {},
   "outputs": [],
   "source": [
    "my_reg=(north_data,'lat','clouds','Cloudiness vs Lat North')    "
   ]
  },
  {
   "cell_type": "markdown",
   "metadata": {},
   "source": [
    "####  Southern Hemisphere - Cloudiness (%) vs. Latitude Linear Regression"
   ]
  },
  {
   "cell_type": "code",
   "execution_count": 33,
   "metadata": {},
   "outputs": [],
   "source": [
    "my_reg=(south_data,'lat','clouds','Cloudiness vs Lat South')"
   ]
  },
  {
   "cell_type": "markdown",
   "metadata": {},
   "source": [
    "####  Northern Hemisphere - Wind Speed (mph) vs. Latitude Linear Regression"
   ]
  },
  {
   "cell_type": "code",
   "execution_count": 34,
   "metadata": {},
   "outputs": [],
   "source": [
    "my_reg=(north_data,'lat','wind','Wind Speed vs Lat North')    "
   ]
  },
  {
   "cell_type": "markdown",
   "metadata": {},
   "source": [
    "####  Southern Hemisphere - Wind Speed (mph) vs. Latitude Linear Regression"
   ]
  },
  {
   "cell_type": "code",
   "execution_count": 35,
   "metadata": {},
   "outputs": [],
   "source": [
    "my_reg=(south_data,'lat','wind','Wind Speed vs Lat South')"
   ]
  },
  {
   "cell_type": "code",
   "execution_count": 52,
   "metadata": {},
   "outputs": [],
   "source": [
    "##There is little relationship between wind speed and latitude in either hemisphere."
   ]
  },
  {
   "cell_type": "code",
   "execution_count": null,
   "metadata": {},
   "outputs": [],
   "source": []
  },
  {
   "cell_type": "code",
   "execution_count": null,
   "metadata": {},
   "outputs": [],
   "source": []
  }
 ],
 "metadata": {
  "anaconda-cloud": {},
  "kernel_info": {
   "name": "python3"
  },
  "kernelspec": {
   "display_name": "Python 3",
   "language": "python",
   "name": "python3"
  },
  "language_info": {
   "codemirror_mode": {
    "name": "ipython",
    "version": 3
   },
   "file_extension": ".py",
   "mimetype": "text/x-python",
   "name": "python",
   "nbconvert_exporter": "python",
   "pygments_lexer": "ipython3",
   "version": "3.7.6"
  },
  "latex_envs": {
   "LaTeX_envs_menu_present": true,
   "autoclose": false,
   "autocomplete": true,
   "bibliofile": "biblio.bib",
   "cite_by": "apalike",
   "current_citInitial": 1,
   "eqLabelWithNumbers": true,
   "eqNumInitial": 1,
   "hotkeys": {
    "equation": "Ctrl-E",
    "itemize": "Ctrl-I"
   },
   "labels_anchors": false,
   "latex_user_defs": false,
   "report_style_numbering": false,
   "user_envs_cfg": false
  },
  "nteract": {
   "version": "0.12.3"
  }
 },
 "nbformat": 4,
 "nbformat_minor": 2
}
